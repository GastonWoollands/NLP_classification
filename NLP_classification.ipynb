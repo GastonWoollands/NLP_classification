{
  "nbformat": 4,
  "nbformat_minor": 0,
  "metadata": {
    "colab": {
      "provenance": [],
      "authorship_tag": "ABX9TyOWZDdJ/63riwYrOW6nLqV2",
      "include_colab_link": true
    },
    "kernelspec": {
      "name": "python3",
      "display_name": "Python 3"
    },
    "language_info": {
      "name": "python"
    },
    "gpuClass": "standard",
    "accelerator": "GPU"
  },
  "cells": [
    {
      "cell_type": "markdown",
      "metadata": {
        "id": "view-in-github",
        "colab_type": "text"
      },
      "source": [
        "<a href=\"https://colab.research.google.com/github/GastonWoollands/NLP_classification/blob/main/NLP_classification.ipynb\" target=\"_parent\"><img src=\"https://colab.research.google.com/assets/colab-badge.svg\" alt=\"Open In Colab\"/></a>"
      ]
    },
    {
      "cell_type": "markdown",
      "source": [
        "https://towardsdatascience.com/text-classification-with-bert-in-pytorch-887965e5820f"
      ],
      "metadata": {
        "id": "8fgYXwqxXRZC"
      }
    },
    {
      "cell_type": "code",
      "source": [
        "%%capture\n",
        "pip install transformers"
      ],
      "metadata": {
        "id": "YiTfq3pDEGwp"
      },
      "execution_count": null,
      "outputs": []
    },
    {
      "cell_type": "code",
      "source": [
        "import pandas as pd\n",
        "import torch\n",
        "import numpy as np\n",
        "from transformers import BertTokenizer, BertModel\n",
        "from torch import nn\n",
        "from torch.optim import Adam\n",
        "# from tqdm import tqdm"
      ],
      "metadata": {
        "id": "-7fC4HjLXWnq"
      },
      "execution_count": null,
      "outputs": []
    },
    {
      "cell_type": "code",
      "source": [
        "df = pd.read_csv('/content/Training_Dataset_Jul19_Nov20.csv', encoding='latin1')\n",
        "df['texts'] = df['texts'].astype(str)\n",
        "df = df[1:]\n",
        "\n",
        "labels = df.label.unique().tolist()\n",
        "\n",
        "id2label = {idx:label for idx, label in enumerate(labels)}\n",
        "labels   = {label:idx for idx, label in enumerate(labels)}"
      ],
      "metadata": {
        "id": "uBLtXmftXY9D"
      },
      "execution_count": null,
      "outputs": []
    },
    {
      "cell_type": "code",
      "source": [
        "tokenizer = BertTokenizer.from_pretrained('bert-base-cased')\n",
        "\n",
        "class Dataset(torch.utils.data.Dataset):\n",
        "\n",
        "    def __init__(self, df):\n",
        "\n",
        "        self.labels = [labels[label] for label in df['label']]\n",
        "        self.texts = [tokenizer(text, \n",
        "                               padding='max_length', max_length = 512, truncation=True,\n",
        "                                return_tensors=\"pt\") for text in df['texts']]\n",
        "\n",
        "    def classes(self):\n",
        "        return self.labels\n",
        "\n",
        "    def __len__(self):\n",
        "        return len(self.labels)\n",
        "\n",
        "    def get_batch_labels(self, idx):\n",
        "        # Fetch a batch of labels\n",
        "        return np.array(self.labels[idx])\n",
        "\n",
        "    def get_batch_texts(self, idx):\n",
        "        # Fetch a batch of inputs\n",
        "        return self.texts[idx]\n",
        "\n",
        "    def __getitem__(self, idx):\n",
        "\n",
        "        batch_texts = self.get_batch_texts(idx)\n",
        "        batch_y = self.get_batch_labels(idx)\n",
        "\n",
        "        return batch_texts, batch_y"
      ],
      "metadata": {
        "id": "LpvmIYvEXY4H"
      },
      "execution_count": null,
      "outputs": []
    },
    {
      "cell_type": "code",
      "source": [
        "class BertClassifier(nn.Module):\n",
        "\n",
        "    def __init__(self, dropout=0.05):\n",
        "\n",
        "        super(BertClassifier, self).__init__()\n",
        "\n",
        "        self.bert = BertModel.from_pretrained('bert-base-cased')\n",
        "        self.dropout = nn.Dropout(dropout)\n",
        "        self.linear = nn.Linear(768, 13)\n",
        "        # self.relu = nn.ReLU()\n",
        "        self.final_layer = nn.Identity()\n",
        "\n",
        "    def forward(self, input_id, mask):\n",
        "\n",
        "        _, pooled_output = self.bert(input_ids= input_id, attention_mask=mask,return_dict=False) # _last state\n",
        "        dropout_output = self.dropout(pooled_output)\n",
        "        linear_output = self.linear(dropout_output)\n",
        "        # final_layer = self.relu(linear_output)\n",
        "        final_layer = self.final_layer(linear_output)\n",
        "\n",
        "        return final_layer"
      ],
      "metadata": {
        "id": "4zOAjaMJXYzY"
      },
      "execution_count": null,
      "outputs": []
    },
    {
      "cell_type": "code",
      "source": [
        "# class BertClassifier(nn.Module):\n",
        "#     def __init__(self, num_labels, freeze_bert=True):\n",
        "#         super(BertClassifier, self).__init__()\n",
        "#         self.num_labels = num_labels\n",
        "#         self.bert = BertModel.from_pretrained('bert-base-cased')\n",
        "#         self.dropout = nn.Dropout(0.1)\n",
        "#         self.classifier = nn.Linear(self.bert.config.hidden_size, num_labels)\n",
        "#         if freeze_bert:\n",
        "#             for param in self.bert.parameters():\n",
        "#                 param.requires_grad = False\n",
        "#         else:\n",
        "#             for name, param in self.bert.named_parameters():\n",
        "#                 if 'encoder.layer.10' in name or 'encoder.layer.11' in name or 'encoder.layer.12' in name or 'pooler' in name:\n",
        "#                     param.requires_grad = True\n",
        "\n",
        "#     def forward(self, input_ids, attention_mask):\n",
        "#         outputs = self.bert(input_ids=input_ids, attention_mask=attention_mask)\n",
        "#         pooled_output = outputs[1]\n",
        "#         pooled_output = self.dropout(pooled_output)\n",
        "#         logits = self.classifier(pooled_output)\n",
        "\n",
        "#         return logits\n"
      ],
      "metadata": {
        "id": "_yPrlaGwXYq5"
      },
      "execution_count": null,
      "outputs": []
    },
    {
      "cell_type": "code",
      "source": [
        "def train(model, train_data, val_data, learning_rate, epochs, batch_size):\n",
        "\n",
        "    train, val = Dataset(train_data), Dataset(val_data)\n",
        "\n",
        "    train_dataloader = torch.utils.data.DataLoader(train, batch_size=batch_size, shuffle=True)\n",
        "    val_dataloader = torch.utils.data.DataLoader(val, batch_size=2)\n",
        "\n",
        "    use_cuda = torch.cuda.is_available()\n",
        "    device = torch.device(\"cuda\" if use_cuda else \"cpu\")\n",
        "\n",
        "    criterion = nn.CrossEntropyLoss()\n",
        "    optimizer = Adam(model.parameters(), lr= learning_rate)\n",
        "\n",
        "    if use_cuda:\n",
        "            #use_cuda = False\n",
        "            model = model.cuda()\n",
        "            criterion = criterion.cuda()\n",
        "\n",
        "    for epoch_num in range(epochs):\n",
        "\n",
        "            total_acc_train = 0\n",
        "            total_loss_train = 0\n",
        "\n",
        "            for train_input, train_label in train_dataloader:\n",
        "\n",
        "                train_label = train_label.to(device)\n",
        "                mask = train_input['attention_mask'].to(device)\n",
        "                input_id = train_input['input_ids'].squeeze(1).to(device)\n",
        "\n",
        "                output = model(input_id, mask)\n",
        "                \n",
        "                batch_loss = criterion(output, train_label.long())\n",
        "                total_loss_train += batch_loss.item()\n",
        "                \n",
        "                acc = (output.argmax(dim=1) == train_label).sum().item()\n",
        "                total_acc_train += acc\n",
        "\n",
        "                model.zero_grad()\n",
        "                batch_loss.backward()\n",
        "                optimizer.step()\n",
        "            \n",
        "            total_acc_val = 0\n",
        "            total_loss_val = 0\n",
        "\n",
        "            with torch.no_grad():\n",
        "\n",
        "                for val_input, val_label in val_dataloader:\n",
        "\n",
        "                    val_label = val_label.to(device)\n",
        "                    mask = val_input['attention_mask'].to(device)\n",
        "                    input_id = val_input['input_ids'].squeeze(1).to(device)\n",
        "\n",
        "                    output = model(input_id, mask)\n",
        "\n",
        "                    batch_loss = criterion(output, val_label.long())\n",
        "                    total_loss_val += batch_loss.item()\n",
        "                    \n",
        "                    acc = (output.argmax(dim=1) == val_label).sum().item()\n",
        "                    total_acc_val += acc\n",
        "            \n",
        "            print(\n",
        "                f'Epochs: {epoch_num + 1} | Train Loss: {total_loss_train / len(train_data): .3f} | Train Accuracy: {total_acc_train / len(train_data): .3f} | Val Loss: {total_loss_val / len(val_data): .3f} | Val Accuracy: {total_acc_val / len(val_data): .3f}')\n",
        "                  "
      ],
      "metadata": {
        "id": "d23aCthfXjVU"
      },
      "execution_count": null,
      "outputs": []
    },
    {
      "cell_type": "code",
      "source": [
        "def evaluate(model, test_data):\n",
        "\n",
        "    test = Dataset(test_data)\n",
        "\n",
        "    test_dataloader = torch.utils.data.DataLoader(test, batch_size=2)\n",
        "\n",
        "    use_cuda = torch.cuda.is_available()\n",
        "    device = torch.device(\"cuda\" if use_cuda else \"cpu\")\n",
        "\n",
        "    if use_cuda:\n",
        "\n",
        "        model = model.cuda()\n",
        "\n",
        "    total_acc_test = 0\n",
        "    with torch.no_grad():\n",
        "\n",
        "        for test_input, test_label in test_dataloader:\n",
        "\n",
        "              test_label = test_label.to(device)\n",
        "              mask = test_input['attention_mask'].to(device)\n",
        "              input_id = test_input['input_ids'].squeeze(1).to(device)\n",
        "\n",
        "              output = model(input_id, mask)\n",
        "\n",
        "              acc = (output.argmax(dim=1) == test_label).sum().item()\n",
        "              total_acc_test += acc\n",
        "    \n",
        "    print(f'Test Accuracy: {total_acc_test / len(test_data): .3f}')"
      ],
      "metadata": {
        "id": "HomXgyvaXmG3"
      },
      "execution_count": null,
      "outputs": []
    },
    {
      "cell_type": "code",
      "source": [
        "np.random.seed(83)\n",
        "df_train, df_val, df_test = np.split(df.sample(frac=1, random_state=83), \n",
        "                                     [int(.8*len(df)), int(.9*len(df))])\n",
        "\n",
        "print(len(df_train),len(df_val), len(df_test))"
      ],
      "metadata": {
        "colab": {
          "base_uri": "https://localhost:8080/"
        },
        "id": "xGiE59Y9XpA1",
        "outputId": "903b9fab-16eb-4901-9f6e-e6f17ad6dbd2"
      },
      "execution_count": null,
      "outputs": [
        {
          "output_type": "stream",
          "name": "stdout",
          "text": [
            "1388 173 174\n"
          ]
        }
      ]
    },
    {
      "cell_type": "code",
      "source": [
        "model = BertClassifier()\n",
        "LR = 1e-6\n",
        "              \n",
        "train(model, df_train, df_val, LR, epochs = 50, batch_size = 15)"
      ],
      "metadata": {
        "colab": {
          "base_uri": "https://localhost:8080/"
        },
        "id": "T60b-Xb6Xq31",
        "outputId": "1cef79dd-552a-4824-fb3b-3c4c6fa24f13"
      },
      "execution_count": null,
      "outputs": [
        {
          "output_type": "stream",
          "name": "stderr",
          "text": [
            "Some weights of the model checkpoint at bert-base-cased were not used when initializing BertModel: ['cls.predictions.bias', 'cls.predictions.transform.LayerNorm.weight', 'cls.seq_relationship.weight', 'cls.predictions.transform.dense.bias', 'cls.predictions.transform.LayerNorm.bias', 'cls.predictions.transform.dense.weight', 'cls.seq_relationship.bias', 'cls.predictions.decoder.weight']\n",
            "- This IS expected if you are initializing BertModel from the checkpoint of a model trained on another task or with another architecture (e.g. initializing a BertForSequenceClassification model from a BertForPreTraining model).\n",
            "- This IS NOT expected if you are initializing BertModel from the checkpoint of a model that you expect to be exactly identical (initializing a BertForSequenceClassification model from a BertForSequenceClassification model).\n"
          ]
        },
        {
          "output_type": "stream",
          "name": "stdout",
          "text": [
            "Epochs: 1 | Train Loss:  0.182 | Train Accuracy:  0.061 | Val Loss:  1.324 | Val Accuracy:  0.040\n",
            "Epochs: 2 | Train Loss:  0.171 | Train Accuracy:  0.100 | Val Loss:  1.277 | Val Accuracy:  0.145\n",
            "Epochs: 3 | Train Loss:  0.163 | Train Accuracy:  0.233 | Val Loss:  1.221 | Val Accuracy:  0.225\n",
            "Epochs: 4 | Train Loss:  0.154 | Train Accuracy:  0.272 | Val Loss:  1.164 | Val Accuracy:  0.220\n",
            "Epochs: 5 | Train Loss:  0.146 | Train Accuracy:  0.297 | Val Loss:  1.128 | Val Accuracy:  0.272\n",
            "Epochs: 6 | Train Loss:  0.138 | Train Accuracy:  0.344 | Val Loss:  1.093 | Val Accuracy:  0.306\n",
            "Epochs: 7 | Train Loss:  0.132 | Train Accuracy:  0.397 | Val Loss:  1.068 | Val Accuracy:  0.341\n",
            "Epochs: 8 | Train Loss:  0.124 | Train Accuracy:  0.442 | Val Loss:  1.047 | Val Accuracy:  0.335\n",
            "Epochs: 9 | Train Loss:  0.118 | Train Accuracy:  0.485 | Val Loss:  1.022 | Val Accuracy:  0.376\n",
            "Epochs: 10 | Train Loss:  0.111 | Train Accuracy:  0.531 | Val Loss:  1.010 | Val Accuracy:  0.376\n",
            "Epochs: 11 | Train Loss:  0.105 | Train Accuracy:  0.565 | Val Loss:  0.983 | Val Accuracy:  0.422\n",
            "Epochs: 12 | Train Loss:  0.099 | Train Accuracy:  0.613 | Val Loss:  0.964 | Val Accuracy:  0.422\n",
            "Epochs: 13 | Train Loss:  0.094 | Train Accuracy:  0.644 | Val Loss:  0.955 | Val Accuracy:  0.410\n",
            "Epochs: 14 | Train Loss:  0.089 | Train Accuracy:  0.680 | Val Loss:  0.948 | Val Accuracy:  0.410\n",
            "Epochs: 15 | Train Loss:  0.084 | Train Accuracy:  0.729 | Val Loss:  0.929 | Val Accuracy:  0.451\n",
            "Epochs: 16 | Train Loss:  0.079 | Train Accuracy:  0.759 | Val Loss:  0.919 | Val Accuracy:  0.451\n",
            "Epochs: 17 | Train Loss:  0.075 | Train Accuracy:  0.777 | Val Loss:  0.916 | Val Accuracy:  0.434\n",
            "Epochs: 18 | Train Loss:  0.071 | Train Accuracy:  0.798 | Val Loss:  0.892 | Val Accuracy:  0.451\n",
            "Epochs: 19 | Train Loss:  0.067 | Train Accuracy:  0.826 | Val Loss:  0.892 | Val Accuracy:  0.457\n",
            "Epochs: 20 | Train Loss:  0.063 | Train Accuracy:  0.851 | Val Loss:  0.883 | Val Accuracy:  0.451\n",
            "Epochs: 21 | Train Loss:  0.060 | Train Accuracy:  0.868 | Val Loss:  0.880 | Val Accuracy:  0.462\n",
            "Epochs: 22 | Train Loss:  0.057 | Train Accuracy:  0.880 | Val Loss:  0.873 | Val Accuracy:  0.457\n",
            "Epochs: 23 | Train Loss:  0.053 | Train Accuracy:  0.892 | Val Loss:  0.875 | Val Accuracy:  0.462\n",
            "Epochs: 24 | Train Loss:  0.050 | Train Accuracy:  0.913 | Val Loss:  0.873 | Val Accuracy:  0.480\n",
            "Epochs: 25 | Train Loss:  0.048 | Train Accuracy:  0.917 | Val Loss:  0.864 | Val Accuracy:  0.480\n",
            "Epochs: 26 | Train Loss:  0.045 | Train Accuracy:  0.927 | Val Loss:  0.857 | Val Accuracy:  0.486\n",
            "Epochs: 27 | Train Loss:  0.042 | Train Accuracy:  0.932 | Val Loss:  0.850 | Val Accuracy:  0.491\n",
            "Epochs: 28 | Train Loss:  0.040 | Train Accuracy:  0.932 | Val Loss:  0.846 | Val Accuracy:  0.486\n",
            "Epochs: 29 | Train Loss:  0.038 | Train Accuracy:  0.940 | Val Loss:  0.851 | Val Accuracy:  0.491\n",
            "Epochs: 30 | Train Loss:  0.036 | Train Accuracy:  0.946 | Val Loss:  0.839 | Val Accuracy:  0.503\n",
            "Epochs: 31 | Train Loss:  0.034 | Train Accuracy:  0.947 | Val Loss:  0.838 | Val Accuracy:  0.491\n",
            "Epochs: 32 | Train Loss:  0.032 | Train Accuracy:  0.948 | Val Loss:  0.837 | Val Accuracy:  0.497\n",
            "Epochs: 33 | Train Loss:  0.030 | Train Accuracy:  0.949 | Val Loss:  0.839 | Val Accuracy:  0.526\n",
            "Epochs: 34 | Train Loss:  0.029 | Train Accuracy:  0.950 | Val Loss:  0.839 | Val Accuracy:  0.497\n",
            "Epochs: 35 | Train Loss:  0.027 | Train Accuracy:  0.954 | Val Loss:  0.840 | Val Accuracy:  0.497\n",
            "Epochs: 36 | Train Loss:  0.026 | Train Accuracy:  0.953 | Val Loss:  0.839 | Val Accuracy:  0.520\n",
            "Epochs: 37 | Train Loss:  0.025 | Train Accuracy:  0.954 | Val Loss:  0.834 | Val Accuracy:  0.509\n",
            "Epochs: 38 | Train Loss:  0.023 | Train Accuracy:  0.957 | Val Loss:  0.835 | Val Accuracy:  0.509\n",
            "Epochs: 39 | Train Loss:  0.022 | Train Accuracy:  0.957 | Val Loss:  0.836 | Val Accuracy:  0.503\n",
            "Epochs: 40 | Train Loss:  0.021 | Train Accuracy:  0.959 | Val Loss:  0.832 | Val Accuracy:  0.520\n",
            "Epochs: 41 | Train Loss:  0.020 | Train Accuracy:  0.962 | Val Loss:  0.837 | Val Accuracy:  0.532\n",
            "Epochs: 42 | Train Loss:  0.019 | Train Accuracy:  0.965 | Val Loss:  0.834 | Val Accuracy:  0.526\n",
            "Epochs: 43 | Train Loss:  0.018 | Train Accuracy:  0.966 | Val Loss:  0.833 | Val Accuracy:  0.514\n",
            "Epochs: 44 | Train Loss:  0.017 | Train Accuracy:  0.967 | Val Loss:  0.835 | Val Accuracy:  0.532\n",
            "Epochs: 45 | Train Loss:  0.016 | Train Accuracy:  0.966 | Val Loss:  0.843 | Val Accuracy:  0.509\n",
            "Epochs: 46 | Train Loss:  0.016 | Train Accuracy:  0.968 | Val Loss:  0.837 | Val Accuracy:  0.532\n",
            "Epochs: 47 | Train Loss:  0.015 | Train Accuracy:  0.970 | Val Loss:  0.845 | Val Accuracy:  0.514\n",
            "Epochs: 48 | Train Loss:  0.014 | Train Accuracy:  0.969 | Val Loss:  0.840 | Val Accuracy:  0.514\n",
            "Epochs: 49 | Train Loss:  0.014 | Train Accuracy:  0.970 | Val Loss:  0.842 | Val Accuracy:  0.526\n",
            "Epochs: 50 | Train Loss:  0.013 | Train Accuracy:  0.973 | Val Loss:  0.841 | Val Accuracy:  0.520\n"
          ]
        }
      ]
    },
    {
      "cell_type": "code",
      "source": [
        "evaluate(model, df_test)"
      ],
      "metadata": {
        "colab": {
          "base_uri": "https://localhost:8080/"
        },
        "id": "bbK92kcvXtHU",
        "outputId": "57a2338b-b9b8-4c43-cea5-9771db53960b"
      },
      "execution_count": null,
      "outputs": [
        {
          "output_type": "stream",
          "name": "stdout",
          "text": [
            "Test Accuracy:  0.586\n"
          ]
        }
      ]
    },
    {
      "cell_type": "code",
      "source": [
        "# Save the updated weights\n",
        "torch.save(model, 'BERT_pretrained_v1.h5')"
      ],
      "metadata": {
        "id": "sDG-PQa7F4vB"
      },
      "execution_count": null,
      "outputs": []
    },
    {
      "cell_type": "markdown",
      "source": [
        "#### Keep Training the model with more epochs"
      ],
      "metadata": {
        "id": "nXFQUBJfe5MD"
      }
    },
    {
      "cell_type": "code",
      "source": [
        "model_v2 = torch.load('/content/BERT_pretrained_v1.h5')\n",
        "LR = 1e-6\n",
        "              \n",
        "train(model_v2, df_train, df_val, LR, epochs = 50, batch_size = 15)"
      ],
      "metadata": {
        "colab": {
          "base_uri": "https://localhost:8080/"
        },
        "id": "zcOM-oemevVb",
        "outputId": "63263a6f-9ba9-4701-b626-fba23327c338"
      },
      "execution_count": null,
      "outputs": [
        {
          "output_type": "stream",
          "name": "stdout",
          "text": [
            "Epochs: 1 | Train Loss:  0.056 | Train Accuracy:  0.831 | Val Loss:  0.825 | Val Accuracy:  0.514\n",
            "Epochs: 2 | Train Loss:  0.053 | Train Accuracy:  0.839 | Val Loss:  0.829 | Val Accuracy:  0.509\n",
            "Epochs: 3 | Train Loss:  0.050 | Train Accuracy:  0.843 | Val Loss:  0.817 | Val Accuracy:  0.514\n",
            "Epochs: 4 | Train Loss:  0.048 | Train Accuracy:  0.857 | Val Loss:  0.822 | Val Accuracy:  0.514\n",
            "Epochs: 5 | Train Loss:  0.045 | Train Accuracy:  0.862 | Val Loss:  0.814 | Val Accuracy:  0.520\n",
            "Epochs: 6 | Train Loss:  0.043 | Train Accuracy:  0.865 | Val Loss:  0.819 | Val Accuracy:  0.532\n",
            "Epochs: 7 | Train Loss:  0.041 | Train Accuracy:  0.874 | Val Loss:  0.822 | Val Accuracy:  0.520\n",
            "Epochs: 8 | Train Loss:  0.039 | Train Accuracy:  0.880 | Val Loss:  0.812 | Val Accuracy:  0.538\n",
            "Epochs: 9 | Train Loss:  0.037 | Train Accuracy:  0.886 | Val Loss:  0.821 | Val Accuracy:  0.549\n",
            "Epochs: 10 | Train Loss:  0.036 | Train Accuracy:  0.895 | Val Loss:  0.823 | Val Accuracy:  0.555\n",
            "Epochs: 11 | Train Loss:  0.034 | Train Accuracy:  0.899 | Val Loss:  0.817 | Val Accuracy:  0.538\n",
            "Epochs: 12 | Train Loss:  0.032 | Train Accuracy:  0.901 | Val Loss:  0.805 | Val Accuracy:  0.538\n",
            "Epochs: 13 | Train Loss:  0.031 | Train Accuracy:  0.906 | Val Loss:  0.822 | Val Accuracy:  0.543\n",
            "Epochs: 14 | Train Loss:  0.030 | Train Accuracy:  0.911 | Val Loss:  0.818 | Val Accuracy:  0.543\n",
            "Epochs: 15 | Train Loss:  0.029 | Train Accuracy:  0.912 | Val Loss:  0.815 | Val Accuracy:  0.555\n",
            "Epochs: 16 | Train Loss:  0.027 | Train Accuracy:  0.915 | Val Loss:  0.815 | Val Accuracy:  0.549\n",
            "Epochs: 17 | Train Loss:  0.026 | Train Accuracy:  0.914 | Val Loss:  0.826 | Val Accuracy:  0.549\n",
            "Epochs: 18 | Train Loss:  0.026 | Train Accuracy:  0.915 | Val Loss:  0.823 | Val Accuracy:  0.549\n",
            "Epochs: 19 | Train Loss:  0.025 | Train Accuracy:  0.917 | Val Loss:  0.840 | Val Accuracy:  0.549\n",
            "Epochs: 20 | Train Loss:  0.024 | Train Accuracy:  0.916 | Val Loss:  0.825 | Val Accuracy:  0.549\n",
            "Epochs: 21 | Train Loss:  0.023 | Train Accuracy:  0.917 | Val Loss:  0.829 | Val Accuracy:  0.549\n",
            "Epochs: 22 | Train Loss:  0.023 | Train Accuracy:  0.917 | Val Loss:  0.834 | Val Accuracy:  0.555\n",
            "Epochs: 23 | Train Loss:  0.022 | Train Accuracy:  0.919 | Val Loss:  0.836 | Val Accuracy:  0.549\n",
            "Epochs: 24 | Train Loss:  0.022 | Train Accuracy:  0.919 | Val Loss:  0.831 | Val Accuracy:  0.549\n",
            "Epochs: 25 | Train Loss:  0.021 | Train Accuracy:  0.919 | Val Loss:  0.845 | Val Accuracy:  0.549\n"
          ]
        }
      ]
    },
    {
      "cell_type": "code",
      "source": [
        "evaluate(model_v2, df_test)"
      ],
      "metadata": {
        "colab": {
          "base_uri": "https://localhost:8080/"
        },
        "id": "6_KvTqkvfF8G",
        "outputId": "ad158a56-cf51-4bd3-a73a-ebf992e23772"
      },
      "execution_count": null,
      "outputs": [
        {
          "output_type": "stream",
          "name": "stdout",
          "text": [
            "Test Accuracy:  0.575\n"
          ]
        }
      ]
    },
    {
      "cell_type": "code",
      "source": [
        "# Save the updated weights\n",
        "torch.save(model, 'BERT_pretrained_v0.h5')"
      ],
      "metadata": {
        "id": "1k1E-q0CvRGm"
      },
      "execution_count": null,
      "outputs": []
    },
    {
      "cell_type": "code",
      "source": [
        "  # test = Dataset(test_data)\n",
        "\n",
        "  # test_dataloader = torch.utils.data.DataLoader(test, batch_size=2)\n",
        "\n",
        "  # use_cuda = torch.cuda.is_available()\n",
        "  # device = torch.device(\"cuda\" if use_cuda else \"cpu\")\n",
        "\n",
        "  # if use_cuda:\n",
        "\n",
        "  #     model = model.cuda()\n",
        "\n",
        "  # total_acc_test = 0\n",
        "  # with torch.no_grad():\n",
        "\n",
        "  #     for test_input, test_label in test_dataloader:\n",
        "\n",
        "  #           test_label = test_label.to(device)\n",
        "  #           mask = test_input['attention_mask'].to(device)\n",
        "  #           input_id = test_input['input_ids'].squeeze(1).to(device)\n",
        "\n",
        "  #           output = model(input_id, mask)\n",
        "\n",
        "  #           acc = (output.argmax(dim=1) == test_label).sum().item()\n",
        "  #           total_acc_test += acc"
      ],
      "metadata": {
        "id": "P1957dd4t76w"
      },
      "execution_count": null,
      "outputs": []
    }
  ]
}